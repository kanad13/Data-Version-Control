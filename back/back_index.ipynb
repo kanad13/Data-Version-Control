{
 "cells": [
  {
   "cell_type": "markdown",
   "metadata": {
    "slideshow": {
     "slide_type": "slide"
    }
   },
   "source": [
    "### An introduction to Data Version Control (DVC)\n",
    "\n",
    "### by Kunal Pathak\n",
    "\n",
    "press down arrow to move to the next slide\n"
   ]
  },
  {
   "cell_type": "markdown",
   "metadata": {
    "slideshow": {
     "slide_type": "subslide"
    }
   },
   "source": [
    "### Navigation\n",
    "\n",
    "- Use arrows in right bottom corner to navigate.\n",
    "- Or use arrow keys work from your keyboard.\n",
    "- Press escape `ESC` to see an overview of the slides.\n"
   ]
  },
  {
   "cell_type": "code",
   "execution_count": null,
   "metadata": {
    "slideshow": {
     "slide_type": "skip"
    }
   },
   "outputs": [],
   "source": [
    "#Prerequisite\n",
    "\n",
    "# Initialize Git repository\n",
    "# git init\n",
    "\n",
    "# Clone reveal.js\n",
    "# git submodule add https://github.com/hakimel/reveal.js.git reveal.js\n",
    "\n",
    "# Install dependencies inside a virtual environment\n",
    "#python3 -m venv dvc_venv\n",
    "# source dvc_venv/bin/activate\n",
    "#pip3 install -r requirements.txt"
   ]
  },
  {
   "cell_type": "code",
   "execution_count": 1,
   "metadata": {
    "slideshow": {
     "slide_type": "skip"
    }
   },
   "outputs": [],
   "source": [
    "# This cell contains code to allow mermaid diagrams to be displayed in Jupyter notebooks.\n",
    "# This code is unrelated to the DVC topic.\n",
    "# https://mermaid.js.org/ecosystem/tutorials.html#jupyter-integration-with-mermaid-js\n",
    "import base64\n",
    "from IPython.display import Image, display\n",
    "import matplotlib.pyplot as plt\n",
    "\n",
    "def mm(graph):\n",
    "    graphbytes = graph.encode(\"utf8\")\n",
    "    base64_bytes = base64.urlsafe_b64encode(graphbytes)\n",
    "    base64_string = base64_bytes.decode(\"ascii\")\n",
    "    display(Image(url=\"https://mermaid.ink/img/\" + base64_string))\n"
   ]
  },
  {
   "cell_type": "markdown",
   "metadata": {
    "slideshow": {
     "slide_type": "slide"
    }
   },
   "source": [
    "# Evolution of Versioning\n",
    "\n",
    "### Press down arrow to go to the next slide.\n"
   ]
  },
  {
   "cell_type": "markdown",
   "metadata": {
    "slideshow": {
     "slide_type": "subslide"
    }
   },
   "source": [
    "### Versioning with file names\n"
   ]
  },
  {
   "cell_type": "markdown",
   "metadata": {
    "slideshow": {
     "slide_type": "subslide"
    }
   },
   "source": [
    "![mermaid](./../assets/dvc-100.png)\n"
   ]
  },
  {
   "cell_type": "code",
   "execution_count": 8,
   "metadata": {
    "slideshow": {
     "slide_type": "skip"
    }
   },
   "outputs": [
    {
     "data": {
      "text/html": [
       "<img src=\"https://mermaid.ink/img/CmdyYXBoIFRECgkJQVtPcmlnaW5hbCBGaWxlOiBmaWxlLnR4dF0gLS0-IEJbZmlsZV91cGRhdGVkLnR4dF0KCQlBIC0tPiBDW2ZpbGVfbGF0ZXN0LnR4dF0KCQlBIC0tPiBEW2ZpbGVfY2hhbmdlZC50eHRdCgoJCUIgLS0-IEVbV2hpY2ggdmVyc2lvbj9dCgkJQyAtLT4gRQoJCUQgLS0-IEUKCgkJRSAtLT4gRltMYXRlc3QgdmVyc2lvbj9dCgkJRSAtLT4gR1tXaGF0IGNoYW5nZXM_XQoJCUUgLS0-IEhbV2hlbiBhbmQgYnkgd2hvbT9dCgkJRSAtLT4gSVtNZXJnZSBjaGFuZ2VzP10K\"/>"
      ],
      "text/plain": [
       "<IPython.core.display.Image object>"
      ]
     },
     "metadata": {},
     "output_type": "display_data"
    }
   ],
   "source": [
    "mm(\"\"\"\n",
    "graph TD\n",
    "\t\tA[Original File: file.txt] --> B[file_updated.txt]\n",
    "\t\tA --> C[file_latest.txt]\n",
    "\t\tA --> D[file_changed.txt]\n",
    "\n",
    "\t\tB --> E[Which version?]\n",
    "\t\tC --> E\n",
    "\t\tD --> E\n",
    "\n",
    "\t\tE --> F[Latest version?]\n",
    "\t\tE --> G[What changes?]\n",
    "\t\tE --> H[When and by whom?]\n",
    "\t\tE --> I[Merge changes?]\n",
    "\"\"\")"
   ]
  },
  {
   "cell_type": "markdown",
   "metadata": {
    "slideshow": {
     "slide_type": "subslide"
    }
   },
   "source": [
    "### Git benefits for Code Files\n"
   ]
  },
  {
   "cell_type": "markdown",
   "metadata": {
    "slideshow": {
     "slide_type": "subslide"
    }
   },
   "source": [
    "![mermaid](./../assets/dvc-105.png)\n"
   ]
  },
  {
   "cell_type": "code",
   "execution_count": 9,
   "metadata": {
    "slideshow": {
     "slide_type": "skip"
    }
   },
   "outputs": [
    {
     "data": {
      "text/html": [
       "<img src=\"https://mermaid.ink/img/CmdyYXBoIFRECgkJQVtDb2RlIHZlcnNpb25pbmcgd2l0aCBHaXRdCgkJQSAtLT4gQltUcmFjayBleGFjdCBjaGFuZ2VzXQoJCUEgLS0-IENbQnJhbmNoIGFuZCBtZXJnZV0KCQlBIC0tPiBEW1RyYWNrIGNvbW1pdCBoaXN0b3J5XQo=\"/>"
      ],
      "text/plain": [
       "<IPython.core.display.Image object>"
      ]
     },
     "metadata": {},
     "output_type": "display_data"
    }
   ],
   "source": [
    "mm(\"\"\"\n",
    "graph TD\n",
    "\t\tA[Code versioning with Git]\n",
    "\t\tA --> B[Track exact changes]\n",
    "\t\tA --> C[Branch and merge]\n",
    "\t\tA --> D[Track commit history]\n",
    "\"\"\")"
   ]
  },
  {
   "cell_type": "markdown",
   "metadata": {
    "slideshow": {
     "slide_type": "subslide"
    }
   },
   "source": [
    "### Git limitations for Big Data\n"
   ]
  },
  {
   "cell_type": "markdown",
   "metadata": {
    "slideshow": {
     "slide_type": "subslide"
    }
   },
   "source": [
    "![mermaid](./../assets/dvc-110.png)\n"
   ]
  },
  {
   "cell_type": "code",
   "execution_count": 10,
   "metadata": {
    "slideshow": {
     "slide_type": "skip"
    }
   },
   "outputs": [
    {
     "data": {
      "text/html": [
       "<img src=\"https://mermaid.ink/img/CmdyYXBoIExSCgkJQVtWZXJzaW9uIG5vbi10ZXh0IGZpbGVzXQoJCUJbVHJhY2sgbGFyZ2UgZGF0YXNldHNdCgkJQ1tUcmFjayBleHBlcmltZW50c10KCQlEW1ZlcnNpb24gcGlwZWxpbmVzXQoJCUVbVHJhY2sgbW9kZWxzXQoKCQlBIC0tPiBCCgkJQSAtLT4gQwoJCUEgLS0-IEQKCQlBIC0tPiBFCg==\"/>"
      ],
      "text/plain": [
       "<IPython.core.display.Image object>"
      ]
     },
     "metadata": {},
     "output_type": "display_data"
    }
   ],
   "source": [
    "mm(\"\"\"\n",
    "graph LR\n",
    "\t\tA[Version non-text files]\n",
    "\t\tB[Track large datasets]\n",
    "\t\tC[Track experiments]\n",
    "\t\tD[Version pipelines]\n",
    "\t\tE[Track models]\n",
    "\n",
    "\t\tA --> B\n",
    "\t\tA --> C\n",
    "\t\tA --> D\n",
    "\t\tA --> E\n",
    "\"\"\")"
   ]
  },
  {
   "cell_type": "markdown",
   "metadata": {
    "slideshow": {
     "slide_type": "subslide"
    }
   },
   "source": [
    "### Data Version Control\n"
   ]
  },
  {
   "cell_type": "markdown",
   "metadata": {
    "slideshow": {
     "slide_type": "subslide"
    }
   },
   "source": [
    "![mermaid](./../assets/dvc-115.png)\n"
   ]
  },
  {
   "cell_type": "code",
   "execution_count": 3,
   "metadata": {
    "slideshow": {
     "slide_type": "skip"
    }
   },
   "outputs": [
    {
     "data": {
      "text/html": [
       "<img src=\"https://mermaid.ink/img/CmdyYXBoIExSCiAgICBBW0RWQyBGZWF0dXJlc10KICAgIEEgLS0-IEJbVmVyc2lvbnMgbGFyZ2UgZGF0YSBmaWxlc10KICAgIEEgLS0-IERbV29ya3Mgd2l0aCBHaXQgJiBjbG91ZCBzdG9yYWdlXQogICAgQSAtLT4gRVtWZXJzaW9ucyBtb2RlbHMgJiBwaXBlbGluZXNdCiAgICBBIC0tPiBGW1RyYWNrcyBleHBlcmltZW50c10K\"/>"
      ],
      "text/plain": [
       "<IPython.core.display.Image object>"
      ]
     },
     "metadata": {},
     "output_type": "display_data"
    }
   ],
   "source": [
    "mm(\"\"\"\n",
    "graph LR\n",
    "    A[DVC Features]\n",
    "    A --> B[Versions large data files]\n",
    "    A --> D[Works with Git & cloud storage]\n",
    "    A --> E[Versions models & pipelines]\n",
    "    A --> F[Tracks experiments]\n",
    "\"\"\")"
   ]
  },
  {
   "cell_type": "markdown",
   "metadata": {
    "slideshow": {
     "slide_type": "subslide"
    }
   },
   "source": [
    "### Git & DVC together\n"
   ]
  },
  {
   "cell_type": "markdown",
   "metadata": {
    "slideshow": {
     "slide_type": "subslide"
    }
   },
   "source": [
    "![mermaid](./../assets/dvc-120.png)\n"
   ]
  },
  {
   "cell_type": "code",
   "execution_count": 4,
   "metadata": {
    "slideshow": {
     "slide_type": "skip"
    }
   },
   "outputs": [
    {
     "data": {
      "text/html": [
       "<img src=\"https://mermaid.ink/img/CmdyYXBoIFRECgkJQVtQcm9qZWN0XSAtLT4gQltDb2RlIEZpbGVzXQoJCUEgLS0-IENbRGF0YSBGaWxlc10KCQlBIC0tPiBEW01MIE1vZGVsc10KCQlCIC0tPiBFW0dpdF0KCQlDIC0tPiBGW0RWQ10KCQlEIC0tPiBGCgkJRiAtLT4gR1tFeHRlcm5hbCBTdG9yYWdlXQo=\"/>"
      ],
      "text/plain": [
       "<IPython.core.display.Image object>"
      ]
     },
     "metadata": {},
     "output_type": "display_data"
    }
   ],
   "source": [
    "mm(\"\"\"\n",
    "graph TD\n",
    "\t\tA[Project] --> B[Code Files]\n",
    "\t\tA --> C[Data Files]\n",
    "\t\tA --> D[ML Models]\n",
    "\t\tB --> E[Git]\n",
    "\t\tC --> F[DVC]\n",
    "\t\tD --> F\n",
    "\t\tF --> G[External Storage]\n",
    "\"\"\")"
   ]
  },
  {
   "cell_type": "markdown",
   "metadata": {
    "slideshow": {
     "slide_type": "slide"
    }
   },
   "source": [
    "# DVC Basics\n",
    "\n",
    "- This section demonstrates the basic functionality of DVC (Data Version Control).\n",
    "- These are the topics covered\n",
    "  - Initialize DVC repository\n",
    "  - Add data to DVC\n",
    "  - Diffeent tyoes of DVC remotes\n",
    "  - Compare DVC with Git\n"
   ]
  },
  {
   "cell_type": "markdown",
   "metadata": {
    "slideshow": {
     "slide_type": "subslide"
    }
   },
   "source": [
    "## Initialize DVC repository\n"
   ]
  },
  {
   "cell_type": "code",
   "execution_count": 9,
   "metadata": {
    "slideshow": {
     "slide_type": "skip"
    }
   },
   "outputs": [],
   "source": [
    "# Backup cell\n",
    "# Switch to the root of the repository\n",
    "#import os\n",
    "# Switch to the root of the repository\n",
    "#os.chdir('/workspaces/dvc3/')\n",
    "# Get the current directory\n",
    "#current_directory = os.getcwd()\n",
    "#print(current_directory)\n",
    "# Print the contents of the current directory\n",
    "#directory_contents = os.listdir(current_directory)\n",
    "#print(directory_contents)"
   ]
  },
  {
   "cell_type": "code",
   "execution_count": null,
   "metadata": {
    "slideshow": {
     "slide_type": "skip"
    }
   },
   "outputs": [],
   "source": [
    "# Initialize DVC repository\n",
    "\n",
    "!dvc init"
   ]
  },
  {
   "cell_type": "markdown",
   "metadata": {
    "slideshow": {
     "slide_type": "subslide"
    }
   },
   "source": [
    "![mermaid](./../assets/dvc-125.png)\n"
   ]
  },
  {
   "cell_type": "code",
   "execution_count": 11,
   "metadata": {
    "slideshow": {
     "slide_type": "skip"
    }
   },
   "outputs": [
    {
     "data": {
      "text/html": [
       "<img src=\"https://mermaid.ink/img/CmdyYXBoIFRECiAgICBBW2R2YyBpbml0XSAtLT4gQlsuZHZjIGRpcmVjdG9yeV0KICAgIEEgLS0-IENbLmR2Y2lnbm9yZSBmaWxlXQogICAgQiAtLT4gRFtjb25maWddCiAgICBCIC0tPiBFW2NhY2hlXQogICAgQiAtLT4gRlt0bXBdCiAgICBCIC0tPiBHWy5naXRpZ25vcmVdCg==\"/>"
      ],
      "text/plain": [
       "<IPython.core.display.Image object>"
      ]
     },
     "metadata": {},
     "output_type": "display_data"
    }
   ],
   "source": [
    "mm(\"\"\"\n",
    "graph TD\n",
    "    A[dvc init] --> B[.dvc directory]\n",
    "    A --> C[.dvcignore file]\n",
    "    B --> D[config]\n",
    "    B --> E[cache]\n",
    "    B --> F[tmp]\n",
    "    B --> G[.gitignore]\n",
    "\"\"\")"
   ]
  },
  {
   "cell_type": "markdown",
   "metadata": {
    "slideshow": {
     "slide_type": "notes"
    }
   },
   "source": [
    "- The `dvc init` command initializes a DVC project in the current directory.\n",
    "- This is similar to `git init` for Git, but it sets up the necessary structure for DVC to work with your data.\n",
    "- After running this command, you'll notice the following changes in your VSCode sidebar:\n",
    "  - A `.dvc` directory is created. This is where DVC stores its internal files and configurations.\n",
    "  - A `.dvcignore` file is created. This is similar to `.gitignore` but for DVC.\n",
    "- The `.dvc` directory contains:\n",
    "  - `config`: DVC configuration file.\n",
    "  - `cache`: Directory where DVC stores the unique copies of your data and models\n",
    "  - `tmp`: Directory where DVC stores temporary files.\n",
    "  - `.gitignore`: File to ignore DVC-specific files.\n",
    "- For more details, check out the detailed documentation [here](https://dvc.org/doc/command-reference/init).\n"
   ]
  },
  {
   "cell_type": "code",
   "execution_count": null,
   "metadata": {
    "slideshow": {
     "slide_type": "subslide"
    }
   },
   "outputs": [],
   "source": [
    "# Check what changes `dvc init` made\n",
    "\n",
    "!git status"
   ]
  },
  {
   "cell_type": "code",
   "execution_count": 4,
   "metadata": {
    "slideshow": {
     "slide_type": "subslide"
    }
   },
   "outputs": [],
   "source": [
    "#Stage the changes caused by `dvc init`\n",
    "\n",
    "!git add .dvc .dvcignore"
   ]
  },
  {
   "cell_type": "code",
   "execution_count": null,
   "metadata": {
    "slideshow": {
     "slide_type": "subslide"
    }
   },
   "outputs": [],
   "source": [
    "# Commit the changes and push them\n",
    "\n",
    "!git commit -m \"Initialize DVC\"\n",
    "!git push origin main"
   ]
  },
  {
   "cell_type": "markdown",
   "metadata": {
    "slideshow": {
     "slide_type": "subslide"
    }
   },
   "source": [
    "### DVC Get\n",
    "\n",
    "- Now, let's use `dvc get` to retrieve a file from a remote repository.\n",
    "- This is similar to `git clone` but for data files. It doesn't clone the entire repository, just the specified data.\n",
    "- The syntax is `dvc get <remote-repo> <file-path>`.\n"
   ]
  },
  {
   "cell_type": "code",
   "execution_count": null,
   "metadata": {
    "slideshow": {
     "slide_type": "subslide"
    }
   },
   "outputs": [],
   "source": [
    "!dvc get https://github.com/kanad13/datasets/ video/part-monarch-metamorphosis.mp4 -o data/time-lapse.mp4"
   ]
  },
  {
   "cell_type": "markdown",
   "metadata": {
    "slideshow": {
     "slide_type": "notes"
    }
   },
   "source": [
    "- The `dvc get` command is used to download data from DVC repositories.\n",
    "  - `https://github.com/kanad13/datasets/`: The URL of the Git repository\n",
    "  - `video/part-monarch-metamorphosis.mp4`: The path to the file within the source repository\n",
    "  - `-o data/time-lapse.mp4`: The output path where the file will be saved locally\n",
    "- After running this command, you'll see a new `data` directory in your VSCode sidebar containing the `time-lapse.mp4` file.\n",
    "- We can play the file to see how it is only part of the full video.\n"
   ]
  },
  {
   "cell_type": "markdown",
   "metadata": {
    "slideshow": {
     "slide_type": "subslide"
    }
   },
   "source": [
    "### DVC Add & Commit\n",
    "\n",
    "- Now that we have a data file, let's add it to DVC and commit the changes.\n",
    "- The `dvc add` command is used to add data files to DVC. It is similar to `git add`, but for data files.\n",
    "- The `dvc commit` command is used to commit the changes to the DVC repository. It is similar to `git commit` but for data files.\n"
   ]
  },
  {
   "cell_type": "code",
   "execution_count": null,
   "metadata": {
    "slideshow": {
     "slide_type": "subslide"
    }
   },
   "outputs": [],
   "source": [
    "!dvc add data/time-lapse.mp4"
   ]
  },
  {
   "cell_type": "markdown",
   "metadata": {
    "slideshow": {
     "slide_type": "notes"
    }
   },
   "source": [
    "- The dvc add command adds a file or directory to DVC.\n",
    "- This creates a `.dvc` file, which is a small text file containing a unique identifier of the data and a file path.\n",
    "- After running these commands, you'll notice:\n",
    "  - A part-video.mp4.dvc file is created in the data directory.\n",
    "  - The actual part-video.mp4 file is copied to the DVC cache (in .dvc/cache).\n",
    "  - The data folder gets a `.gitignore` file of its own. It is updated to ignore the actual data file.\n",
    "- **Important**\n",
    "  - DVC does not actually store your large datasets or models directly within the DVC project directory\n",
    "  - We do not commit `time-lapse.mp4` since that will go to our DVC repo\n",
    "  - The metadata about this video file is versioned alongside the source code, while the original data file is added to .gitignore\n"
   ]
  },
  {
   "cell_type": "code",
   "execution_count": null,
   "metadata": {
    "slideshow": {
     "slide_type": "subslide"
    }
   },
   "outputs": [],
   "source": [
    "# Add the updated files to the Git repository\n",
    "\n",
    "!git add data/time-lapse.mp4.dvc data/.gitignore\n",
    "!git commit -m \"Add part video file to DVC\"\n",
    "!git push origin main"
   ]
  },
  {
   "cell_type": "markdown",
   "metadata": {
    "slideshow": {
     "slide_type": "subslide"
    }
   },
   "source": [
    "### DVC Remotes\n",
    "\n",
    "- DVC supports multiple types of remotes to store your data and models e.g. AWS S3, Google Cloud Storage, Azure Blob Storage, etc.\n",
    "- You can add a remote using the `dvc remote add` command.\n"
   ]
  },
  {
   "cell_type": "code",
   "execution_count": null,
   "metadata": {
    "slideshow": {
     "slide_type": "subslide"
    }
   },
   "outputs": [],
   "source": [
    "!dvc remote add -d myremote gs://dvc-bucket-01\n",
    "!git add .dvc/config\n",
    "!git commit -m \"Add GCS remote\""
   ]
  },
  {
   "cell_type": "markdown",
   "metadata": {
    "slideshow": {
     "slide_type": "notes"
    }
   },
   "source": [
    "- The `dvc remote add` command adds a new remote storage.\n",
    "- The `-d` flag sets it as the default remote.\n",
    "- After running these commands:\n",
    "  - The `.dvc/config` file is updated with the new remote information.\n",
    "  - We commit this change to Git to version control our DVC configuration.\n",
    "- You can now push your data to the remote using the `dvc push` command.\n"
   ]
  },
  {
   "cell_type": "markdown",
   "metadata": {
    "slideshow": {
     "slide_type": "subslide"
    }
   },
   "source": [
    "### DVC Push\n",
    "\n",
    "- The `dvc push` command is used to push data to a remote storage.\n",
    "- `dvc push` uploads the files from your local DVC cache folder to the remote storage.\n",
    "- This is similar to `git push`, but for data files.\n"
   ]
  },
  {
   "cell_type": "code",
   "execution_count": null,
   "metadata": {
    "slideshow": {
     "slide_type": "skip"
    }
   },
   "outputs": [],
   "source": [
    "# Prerequisite\n",
    "\n",
    "# First login to the Google Cloud Platform (GCP) using the following command:\n",
    "# gcloud auth application-default login\n",
    "\n",
    "# List the projects\n",
    "# gcloud projects list\n",
    "\n",
    "# Set the project ID\n",
    "# gcloud config set project YOUR_PROJECT_ID\n",
    "# gcloud config set project dvc-project-436415\n",
    "\n",
    "# Set the project ID for the quota\n",
    "#gcloud auth application-default set-quota-project dvc-project-436415\n",
    "\n",
    "# Check the project ID\n",
    "# gcloud config list project"
   ]
  },
  {
   "cell_type": "code",
   "execution_count": null,
   "metadata": {
    "slideshow": {
     "slide_type": "subslide"
    }
   },
   "outputs": [],
   "source": [
    "!dvc push\n",
    "\n",
    "#After running `dvc push`, you won't see any changes in your local file structure, but the data will be uploaded to your GCS bucket.\n",
    "# https://console.cloud.google.com/storage/browser/dvc-bucket-01"
   ]
  },
  {
   "cell_type": "markdown",
   "metadata": {
    "slideshow": {
     "slide_type": "subslide"
    }
   },
   "source": [
    "| Feature                 | DVC Get                                          | DVC Pull                                                      |\n",
    "| ----------------------- | ------------------------------------------------ | ------------------------------------------------------------- |\n",
    "| **Command Syntax**      | `dvc get <repo_url> <file_path>`                 | `dvc pull [file_path]`                                        |\n",
    "| **Purpose**             | Retrieve files from a remote location            | Synchronize entire project with remote storage of DVC project |\n",
    "| **Usage Context**       | Can be used anywhere, no DVC project required    | Must be used within an existing DVC project                   |\n",
    "| **Scope**               | Individual files or directories                  | Entire project or specific tracked files/directories          |\n",
    "| **Typical Use Case**    | One-time data retrieval, accessing external data | Ongoing project work, updating local data                     |\n",
    "| **Project Setup**       | No setup required                                | Requires initialized DVC project                              |\n",
    "| **Dependency Tracking** | Doesn't track dependencies                       | Maintains project's dependency structure                      |\n"
   ]
  },
  {
   "cell_type": "markdown",
   "metadata": {
    "slideshow": {
     "slide_type": "subslide"
    }
   },
   "source": [
    "### Tracking Data files with DVC\n",
    "\n",
    "- Now, let's demonstrate how DVC handles updating and tracking data files, similar to how Git tracks code changes.\n"
   ]
  },
  {
   "cell_type": "code",
   "execution_count": null,
   "metadata": {
    "slideshow": {
     "slide_type": "subslide"
    }
   },
   "outputs": [],
   "source": [
    "# Pull a new, larger version of the file from the same repo\n",
    "!dvc get https://github.com/kanad13/datasets/ video/fully-monarch-metamorphosis.mp4 -o data/time-lapse.mp4 --force"
   ]
  },
  {
   "cell_type": "markdown",
   "metadata": {
    "slideshow": {
     "slide_type": "notes"
    }
   },
   "source": [
    "- We've now downloaded a larger version of the time-lapse video, overwriting the previous file.\n",
    "- This new file is similar in content but larger in size.\n"
   ]
  },
  {
   "cell_type": "code",
   "execution_count": null,
   "metadata": {
    "slideshow": {
     "slide_type": "subslide"
    }
   },
   "outputs": [],
   "source": [
    "# Add the file to DVC\n",
    "!dvc add data/time-lapse.mp4"
   ]
  },
  {
   "cell_type": "code",
   "execution_count": null,
   "metadata": {
    "slideshow": {
     "slide_type": "subslide"
    }
   },
   "outputs": [],
   "source": [
    "# This command shows that the file is modified.\n",
    "!git diff ./data/time-lapse.mp4.dvc\n",
    "# Notice the changes in hash & size values."
   ]
  },
  {
   "cell_type": "code",
   "execution_count": null,
   "metadata": {
    "slideshow": {
     "slide_type": "subslide"
    }
   },
   "outputs": [],
   "source": [
    "# Commit changes to git\n",
    "!git add data/time-lapse.mp4.dvc\n",
    "!git commit -m \"Update time-lapse video with full version\"\n",
    "!git push origin main"
   ]
  },
  {
   "cell_type": "code",
   "execution_count": null,
   "metadata": {
    "slideshow": {
     "slide_type": "subslide"
    }
   },
   "outputs": [],
   "source": [
    "# Push the updated data to the DVC remote\n",
    "!dvc push"
   ]
  },
  {
   "cell_type": "markdown",
   "metadata": {
    "slideshow": {
     "slide_type": "subslide"
    }
   },
   "source": [
    "![mermaid](./../assets/dvc-130.png)\n"
   ]
  },
  {
   "cell_type": "code",
   "execution_count": 12,
   "metadata": {
    "slideshow": {
     "slide_type": "skip"
    }
   },
   "outputs": [
    {
     "data": {
      "text/html": [
       "<img src=\"https://mermaid.ink/img/CmdyYXBoIExSCiAgICBBW0dpdEh1YiBSZXBvc2l0b3J5XSAtLT58ZHZjIGdldHwgQltMb2NhbCBQcm9qZWN0XQogICAgQiAtLT58ZHZjIGFkZHwgQ1tEVkMgVHJhY2tpbmddCiAgICBDIC0tPnxnaXQgYWRkL2NvbW1pdHwgRFtHaXQgUmVwb3NpdG9yeV0KICAgIEMgLS0-fGR2YyBwdXNofCBFW0dvb2dsZSBDbG91ZCBTdG9yYWdlXQoKICAgIHN1YmdyYXBoIExvY2FsIFByb2plY3QKICAgIEIKICAgIEMKICAgIEQKICAgIGVuZAoKICAgIHN1YmdyYXBoIFJlbW90ZSBTdG9yYWdlCiAgICBBCiAgICBFCiAgICBlbmQK\"/>"
      ],
      "text/plain": [
       "<IPython.core.display.Image object>"
      ]
     },
     "metadata": {},
     "output_type": "display_data"
    }
   ],
   "source": [
    "mm(\"\"\"\n",
    "graph LR\n",
    "    A[GitHub Repository] -->|dvc get| B[Local Project]\n",
    "    B -->|dvc add| C[DVC Tracking]\n",
    "    C -->|git add/commit| D[Git Repository]\n",
    "    C -->|dvc push| E[Google Cloud Storage]\n",
    "\n",
    "    subgraph Local Project\n",
    "    B\n",
    "    C\n",
    "    D\n",
    "    end\n",
    "\n",
    "    subgraph Remote Storage\n",
    "    A\n",
    "    E\n",
    "    end\n",
    "\"\"\")"
   ]
  },
  {
   "cell_type": "markdown",
   "metadata": {
    "slideshow": {
     "slide_type": "subslide"
    }
   },
   "source": [
    "![mermaid](./../assets/dvc-135.png)\n"
   ]
  },
  {
   "cell_type": "code",
   "execution_count": 5,
   "metadata": {
    "slideshow": {
     "slide_type": "skip"
    }
   },
   "outputs": [
    {
     "data": {
      "text/html": [
       "<img src=\"https://mermaid.ink/img/CmdyYXBoIFRECiAgICBBW1Byb2plY3QgRGlyZWN0b3J5XSAtLT4gQntGaWxlIFR5cGU_fQogICAgQiAtLT58TGFyZ2UgRGF0YSBGaWxlfCBDW0RWQyBBZGRdCiAgICBCIC0tPnxDb2RlL1NtYWxsIEZpbGV8IERbR2l0IEFkZF0KICAgIEMgLS0-IEVbQ3JlYXRlcyAuZHZjIGZpbGVdCiAgICBFIC0tPiBGW0FkZCAuZHZjIGZpbGUgdG8gR2l0XQogICAgQyAtLT4gR1tBZGQgb3JpZ2luYWwgZmlsZSB0byAuZ2l0aWdub3JlXQogICAgRCAtLT4gSFtDb21taXQgdG8gR2l0IHJlcG9zaXRvcnldCiAgICBGIC0tPiBICiAgICBHIC0tPiBICiAgICBDIC0tPiBJW1N0b3JlIGRhdGEgaW4gRFZDIHJlbW90ZV0KICAgIEkgLS0-IEpbUHVzaCB0byBEVkMgcmVtb3RlXQogICAgSCAtLT4gS1tQdXNoIHRvIEdpdCByZW1vdGVdCg==\"/>"
      ],
      "text/plain": [
       "<IPython.core.display.Image object>"
      ]
     },
     "metadata": {},
     "output_type": "display_data"
    }
   ],
   "source": [
    "mm(\"\"\"\n",
    "graph TD\n",
    "    A[Project Directory] --> B{File Type?}\n",
    "    B -->|Large Data File| C[DVC Add]\n",
    "    B -->|Code/Small File| D[Git Add]\n",
    "    C --> E[Creates .dvc file]\n",
    "    E --> F[Add .dvc file to Git]\n",
    "    C --> G[Add original file to .gitignore]\n",
    "    D --> H[Commit to Git repository]\n",
    "    F --> H\n",
    "    G --> H\n",
    "    C --> I[Store data in DVC remote]\n",
    "    I --> J[Push to DVC remote]\n",
    "    H --> K[Push to Git remote]\n",
    "\"\"\")"
   ]
  },
  {
   "cell_type": "markdown",
   "metadata": {
    "slideshow": {
     "slide_type": "subslide"
    }
   },
   "source": [
    "# Experiment Tracking\n"
   ]
  },
  {
   "cell_type": "markdown",
   "metadata": {
    "slideshow": {
     "slide_type": "subslide"
    }
   },
   "source": [
    "### Machine Learning Workflow\n"
   ]
  },
  {
   "cell_type": "markdown",
   "metadata": {
    "slideshow": {
     "slide_type": "subslide"
    }
   },
   "source": [
    "![mermaid](./../assets/dvc-140.png)\n"
   ]
  },
  {
   "cell_type": "code",
   "execution_count": 13,
   "metadata": {
    "slideshow": {
     "slide_type": "skip"
    }
   },
   "outputs": [
    {
     "data": {
      "text/html": [
       "<img src=\"https://mermaid.ink/img/CmdyYXBoIFRECiAgICBBW0RhdGEgTWFuYWdlbWVudCAmIEFuYWx5c2lzXSAtLT4gQltCdWlsZCAmIEV4cGVyaW1lbnRdCiAgICBCIC0tPiBDW1NvbHV0aW9uIERldmVsb3BtZW50ICYgVGVzdF0KICAgIEMgLS0-IERbRGVwbG95bWVudCAmIFNlcnZpbmddCiAgICBEIC0tPiBFW01vbml0b3IgJiBNYWludGFpbl0KICAgIEUgLS4tPiBBCiAgICBCIC0uLT4gQQo=\"/>"
      ],
      "text/plain": [
       "<IPython.core.display.Image object>"
      ]
     },
     "metadata": {},
     "output_type": "display_data"
    }
   ],
   "source": [
    "mm(\"\"\"\n",
    "graph TD\n",
    "    A[Data Management & Analysis] --> B[Build & Experiment]\n",
    "    B --> C[Solution Development & Test]\n",
    "    C --> D[Deployment & Serving]\n",
    "    D --> E[Monitor & Maintain]\n",
    "    E -.-> A\n",
    "    B -.-> A\n",
    "\"\"\")"
   ]
  },
  {
   "cell_type": "markdown",
   "metadata": {
    "slideshow": {
     "slide_type": "subslide"
    }
   },
   "source": [
    "### ML Pipeline\n"
   ]
  },
  {
   "cell_type": "markdown",
   "metadata": {
    "slideshow": {
     "slide_type": "subslide"
    }
   },
   "source": [
    "![mermaid](./../assets/dvc-145.png)\n"
   ]
  },
  {
   "cell_type": "code",
   "execution_count": 14,
   "metadata": {},
   "outputs": [
    {
     "data": {
      "text/html": [
       "<img src=\"https://mermaid.ink/img/CmdyYXBoIExSCiAgICBEYXRhWygiRGF0YSIpXQogICAgUGFyYW1zWUFNTFsoInBhcmFtcy55YW1sIildCgogICAgc3ViZ3JhcGggUGlwZWxpbmUKICAgICAgICBEYXRhTG9hZFsiZGF0YV9sb2FkIl0KICAgICAgICBGZWF0dXJpemVbImZlYXR1cml6ZSJdCiAgICAgICAgRGF0YVNwbGl0WyJkYXRhX3NwbGl0Il0KICAgICAgICBFdmFsdWF0ZVsiRXZhbHVhdGUiXQogICAgICAgIFRyYWluWyJUcmFpbiJdCiAgICBlbmQKCiAgICBNZXRyaWNzUGxvdHNbIk1ldHJpY3MgJiBQbG90cyJdCiAgICBNb2RlbFsiTW9kZWwiXQoKICAgIERhdGEgLS0-IERhdGFMb2FkCiAgICBEYXRhTG9hZCAtLT4gRmVhdHVyaXplCiAgICBGZWF0dXJpemUgLS0-IERhdGFTcGxpdAogICAgRGF0YVNwbGl0IC0tPiBFdmFsdWF0ZQogICAgRGF0YVNwbGl0IC0tPiBUcmFpbgogICAgRXZhbHVhdGUgLS0-IE1ldHJpY3NQbG90cwogICAgVHJhaW4gLS0-IE1vZGVsCgogICAgUGFyYW1zWUFNTCAtLi0-IFBpcGVsaW5lCg==\"/>"
      ],
      "text/plain": [
       "<IPython.core.display.Image object>"
      ]
     },
     "metadata": {},
     "output_type": "display_data"
    }
   ],
   "source": [
    "mm(\"\"\"\n",
    "graph LR\n",
    "    Data[(\"Data\")]\n",
    "    ParamsYAML[(\"params.yaml\")]\n",
    "\n",
    "    subgraph Pipeline\n",
    "        DataLoad[\"data_load\"]\n",
    "        Featurize[\"featurize\"]\n",
    "        DataSplit[\"data_split\"]\n",
    "        Evaluate[\"Evaluate\"]\n",
    "        Train[\"Train\"]\n",
    "    end\n",
    "\n",
    "    MetricsPlots[\"Metrics & Plots\"]\n",
    "    Model[\"Model\"]\n",
    "\n",
    "    Data --> DataLoad\n",
    "    DataLoad --> Featurize\n",
    "    Featurize --> DataSplit\n",
    "    DataSplit --> Evaluate\n",
    "    DataSplit --> Train\n",
    "    Evaluate --> MetricsPlots\n",
    "    Train --> Model\n",
    "\n",
    "    ParamsYAML -.-> Pipeline\n",
    "\"\"\")\n"
   ]
  },
  {
   "cell_type": "markdown",
   "metadata": {
    "slideshow": {
     "slide_type": "subslide"
    }
   },
   "source": [
    "- Experiment Tracking means - Tracking details of a several runs of Machine Learning pipeline.\n",
    "\n",
    "- **Items that can be tracked include**\n",
    "\n",
    "  - hyperparameters\n",
    "  - metrics like accuracy, loss, etc.\n",
    "  - different versions of models and datasets.\n",
    "\n",
    "- **Experiment Tracking is useful for**\n",
    "  - `Compare` - Compare between different runs and models.\n",
    "  - `Track` - Track results and performance metrics.\n",
    "  - `Reproduce` - Replicate experiments using stored models, hyperparameters, etc.\n",
    "  - `Audit` - Maintain history of input data used, model used, etc.\n",
    "  - `Collaborate` - Share results and allow team members to reproduce experiments.\n"
   ]
  },
  {
   "cell_type": "code",
   "execution_count": null,
   "metadata": {
    "slideshow": {
     "slide_type": "skip"
    }
   },
   "outputs": [],
   "source": [
    "mm(\"\"\"\n",
    "graph LR\n",
    "    Data[(\"Data\")]\n",
    "    ParamsYAML[(\"params.yaml\")]\n",
    "\n",
    "    subgraph Pipeline\n",
    "        DataLoad[\"data_load\"]\n",
    "        Featurize[\"featurize\"]\n",
    "        DataSplit[\"data_split\"]\n",
    "        Evaluate[\"Evaluate\"]\n",
    "        Train[\"Train\"]\n",
    "    end\n",
    "\n",
    "    MetricsPlots[\"Metrics & Plots\"]\n",
    "    Model[\"Model\"]\n",
    "\n",
    "    Data --> DataLoad\n",
    "    DataLoad --> Featurize\n",
    "    Featurize --> DataSplit\n",
    "    DataSplit --> Evaluate\n",
    "    DataSplit --> Train\n",
    "    Evaluate --> MetricsPlots\n",
    "    Train --> Model\n",
    "\n",
    "    ParamsYAML -.-> Pipeline\n",
    "\"\"\")\n"
   ]
  },
  {
   "cell_type": "markdown",
   "metadata": {
    "slideshow": {
     "slide_type": "subslide"
    }
   },
   "source": [
    "### Experiment Versions\n"
   ]
  },
  {
   "cell_type": "markdown",
   "metadata": {
    "slideshow": {
     "slide_type": "subslide"
    }
   },
   "source": [
    "![mermaid](./../assets/dvc-150.png)\n"
   ]
  },
  {
   "cell_type": "code",
   "execution_count": null,
   "metadata": {
    "slideshow": {
     "slide_type": "skip"
    }
   },
   "outputs": [],
   "source": [
    "mm(\"\"\"\n",
    "gitGraph\n",
    "    commit id: \"Initial\"\n",
    "    branch experiment-1\n",
    "    checkout experiment-1\n",
    "    commit id: \"Exp 1 - v1\"\n",
    "    commit id: \"Exp 1 - v2\"\n",
    "    checkout main\n",
    "    merge experiment-1\n",
    "    branch experiment-2\n",
    "    checkout experiment-2\n",
    "    commit id: \"Exp 2 - v1\"\n",
    "    checkout main\n",
    "    branch experiment-3\n",
    "    checkout experiment-3\n",
    "    commit id: \"Exp 3 - v1\"\n",
    "    checkout experiment-2\n",
    "    commit id: \"Exp 2 - v2\"\n",
    "    checkout main\n",
    "    merge experiment-2\n",
    "\"\"\")"
   ]
  },
  {
   "cell_type": "markdown",
   "metadata": {
    "slideshow": {
     "slide_type": "subslide"
    }
   },
   "source": [
    "### Reproducibility\n"
   ]
  },
  {
   "cell_type": "markdown",
   "metadata": {
    "slideshow": {
     "slide_type": "subslide"
    }
   },
   "source": [
    "![mermaid](./../assets/dvc-155.png)\n"
   ]
  },
  {
   "cell_type": "code",
   "execution_count": null,
   "metadata": {
    "slideshow": {
     "slide_type": "skip"
    }
   },
   "outputs": [],
   "source": [
    "mm(\"\"\"\n",
    "graph LR\n",
    "    subgraph Development Environment\n",
    "    A[Historical Data] --> B[Feature Engineering]\n",
    "    B --> C[Train]\n",
    "    C --> D[Scoring]\n",
    "    D --> E[Predictions]\n",
    "    C --> F[Model]\n",
    "    end\n",
    "\n",
    "    subgraph Production Environment\n",
    "    G[Live Data] --> H[Feature Engineering]\n",
    "    H --> I[Scoring]\n",
    "    I --> J[Predictions]\n",
    "    end\n",
    "\n",
    "    F --> I\n",
    "\"\"\")"
   ]
  },
  {
   "cell_type": "markdown",
   "metadata": {
    "slideshow": {
     "slide_type": "subslide"
    }
   },
   "source": [
    "### Experiment Tracking with DVC\n"
   ]
  },
  {
   "cell_type": "markdown",
   "metadata": {},
   "source": [
    "![mermaid](./../assets/dvc-160.png)\n"
   ]
  },
  {
   "cell_type": "code",
   "execution_count": 6,
   "metadata": {
    "slideshow": {
     "slide_type": "skip"
    }
   },
   "outputs": [
    {
     "data": {
      "text/html": [
       "<img src=\"https://mermaid.ink/img/CmdyYXBoIExSCiAgICBBW1JhdyBEYXRhXSAtLT4gQltEYXRhIFByZXBhcmF0aW9uXQogICAgQiAtLT4gQ1tGZWF0dXJlIEVuZ2luZWVyaW5nXQogICAgQyAtLT4gRFtNb2RlbCBUcmFpbmluZ10KICAgIEQgLS0-IEVbTW9kZWwgRXZhbHVhdGlvbl0KICAgIEUgLS0-IEZbTW9kZWwgRGVwbG95bWVudF0KCiAgICBzdWJncmFwaCBEVkMgVHJhY2tpbmcKICAgIEdbVmVyc2lvbiBDb250cm9sXQogICAgSFtNZXRyaWNzIExvZ2dpbmddCiAgICBJW0h5cGVycGFyYW1ldGVyIFRyYWNraW5nXQogICAgZW5kCgogICAgQiAtLi0-IEcKICAgIEMgLS4tPiBHCiAgICBEIC0uLT4gRwogICAgRCAtLi0-IEkKICAgIEUgLS4tPiBICg==\"/>"
      ],
      "text/plain": [
       "<IPython.core.display.Image object>"
      ]
     },
     "metadata": {},
     "output_type": "display_data"
    }
   ],
   "source": [
    "mm(\"\"\"\n",
    "graph LR\n",
    "    A[Raw Data] --> B[Data Preparation]\n",
    "    B --> C[Feature Engineering]\n",
    "    C --> D[Model Training]\n",
    "    D --> E[Model Evaluation]\n",
    "    E --> F[Model Deployment]\n",
    "\n",
    "    subgraph DVC Tracking\n",
    "    G[Version Control]\n",
    "    H[Metrics Logging]\n",
    "    I[Hyperparameter Tracking]\n",
    "    end\n",
    "\n",
    "    B -.-> G\n",
    "    C -.-> G\n",
    "    D -.-> G\n",
    "    D -.-> I\n",
    "    E -.-> H\n",
    "\"\"\")"
   ]
  },
  {
   "cell_type": "markdown",
   "metadata": {
    "slideshow": {
     "slide_type": "subslide"
    }
   },
   "source": [
    "### Comparison of Experiments Tracking methods\n",
    "\n",
    "| Traditional Method     | DVC-based            |\n",
    "| ---------------------- | -------------------- |\n",
    "| Manual Logging         | Automated Tracking   |\n",
    "| Spreadsheets           | Structured Storage   |\n",
    "| Manual Version Control | Git Integration      |\n",
    "| Difficult to Reproduce | Easy Reproducibility |\n"
   ]
  },
  {
   "cell_type": "markdown",
   "metadata": {
    "slideshow": {
     "slide_type": "subslide"
    }
   },
   "source": [
    "### DVCLive\n",
    "\n",
    "- **DVCLive**\n",
    "  - It is a Python library for tracking metrics associated with machine learning experiments.\n",
    "- **Key Features**\n",
    "  - Logs metrics, parameters, plots, and artifacts during model training\n",
    "  - Integrates with popular ML frameworks (e.g., PyTorch Lightning, Scikit-learn)\n",
    "  - Provides real-time experiment logging capabilities\n",
    "  - DVCLive is an ML logger similar to MLflow. Vertex AI provides similar logging capabilities as DVCLive, but is is designed to work within the Google Cloud ecosystem.\n"
   ]
  },
  {
   "cell_type": "markdown",
   "metadata": {
    "slideshow": {
     "slide_type": "notes"
    }
   },
   "source": [
    "- **Comparison of DVCLive with other related tools**\n",
    "  - [link](https://github.com/iterative/dvclive?tab=readme-ov-file#comparison-to-related-technologies)\n",
    "  - DVCLive is an ML Logger, similar to:\n",
    "    - [MLFlow](https://mlflow.org/)\n",
    "    - [Weights & Biases](https://wandb.ai/site)\n",
    "    - [Neptune](https://neptune.ai/)\n",
    "  - The main differences with those ML Loggers are:\n",
    "    - DVCLive does not require any additional services or servers to run.\n",
    "    - DVCLive metrics, parameters, and plots are stored as plain text files that can be versioned by tools like Git or tracked as pointers to files in DVC storage.\n",
    "    - DVCLive can save experiments or runs as hidden Git commits.\n",
    "    - You can then use different options to visualize the metrics, parameters, and plots across experiments.\n"
   ]
  },
  {
   "cell_type": "markdown",
   "metadata": {
    "slideshow": {
     "slide_type": "subslide"
    }
   },
   "source": [
    "### DVC Studio\n",
    "\n",
    "- **DVC Studio**\n",
    "  - It is a web-based platform for managing and visualizing experiments tracked with DVC.\n",
    "- **Key Features**\n",
    "  - Provides a user interface for viewing, comparing, and analyzing DVC experiments\n",
    "  - Visualizes plots, metrics, and other experiment data in a centralized dashboard\n",
    "  - Enables real-time monitoring of ongoing experiments when integrated with DVCLive\n",
    "- **Integration between DVCLive and DVC Studio**\n",
    "  - `DVCLive` - Tool for logging experiment data during training\n",
    "  - `DVC Studio` - Platform for visualizing and managing that data\n",
    "  - `Together` - In DVC Studio, users can see live updates of metrics and plots as they're being logged by DVCLive, allowing for real-time monitoring of ongoing experiments.\n"
   ]
  },
  {
   "cell_type": "markdown",
   "metadata": {
    "slideshow": {
     "slide_type": "subslide"
    }
   },
   "source": [
    "### DVCLive Demo\n",
    "\n",
    "- **DVCLive in action**\n",
    "  - We will now execute a script that simulates a machine learning training process.\n",
    "  - It demonstrates how to use DVC Live to log parameters and metrics.\n",
    "  - It creates fake accuracy and loss values that mimic typical ML training behavior over multiple epochs.\n",
    "- **DVCStudio in action**\n",
    "  - Run this code 3-4 times to simulate different training runs. Use different parameters to see how they affect the results.\n",
    "  - Once you have run this code a few times, you can view the results in the DVCLive dashboard. And also on DVCStudio.\n",
    "  - DVCStudio allows you to share and visualize your DVC experiments with others.\n"
   ]
  },
  {
   "cell_type": "markdown",
   "metadata": {
    "slideshow": {
     "slide_type": "notes"
    }
   },
   "source": [
    "- **Prerequisites**\n",
    "- Go to DVC Studio and create a DVC project. Grant access to your repo from that project.\n",
    "- Connect vscode and DVC Studio by clicking the Get Token from inside DVCStudio page in DVC extension.\n"
   ]
  },
  {
   "cell_type": "code",
   "execution_count": null,
   "metadata": {
    "slideshow": {
     "slide_type": "subslide"
    }
   },
   "outputs": [],
   "source": [
    "# DVCLive & DVCStudio Demo\n",
    "# Script source - https://github.com/iterative/dvclive\n",
    "\n",
    "import time\n",
    "import random\n",
    "from dvclive import Live\n",
    "# Define hyperparameters for the simulated training\n",
    "params = {\"learning_rate\": 0.002, \"optimizer\": \"Adam\", \"epochs\": 20}\n",
    "# Start a DVC Live session\n",
    "with Live() as live:\n",
    "    # Log the hyperparameters\n",
    "    for param in params:\n",
    "        live.log_param(param, params[param])\n",
    "    # Generate a random offset to add variability to the simulated metrics\n",
    "    offset = random.uniform(0.2, 0.1)\n",
    "    # Simulate the training process\n",
    "    for epoch in range(1, params[\"epochs\"]):\n",
    "        # Generate a random \"fuzz\" value to add noise to the metrics\n",
    "        fuzz = random.uniform(0.01, 0.1)\n",
    "        # Calculate simulated accuracy (increases over time)\n",
    "        accuracy = 1 - (2 ** - epoch) - fuzz - offset\n",
    "        # Calculate simulated loss (decreases over time)\n",
    "        loss = (2 ** - epoch) + fuzz + offset\n",
    "        # Log the accuracy metric\n",
    "        live.log_metric(\"accuracy\", accuracy)\n",
    "        # Log the loss metric\n",
    "        live.log_metric(\"loss\", loss)\n",
    "        # Move to the next step (epoch) in DVC Live\n",
    "        live.next_step()\n",
    "        # Add a small delay to simulate the time taken for each epoch\n",
    "        time.sleep(0.2)"
   ]
  },
  {
   "cell_type": "markdown",
   "metadata": {
    "slideshow": {
     "slide_type": "notes"
    }
   },
   "source": [
    "- DVCLive relies on Git to track the generated directory\n",
    "- After you run your training code above, all the logged data will be stored in the dvclive directory and tracked as a DVC experiment for analysis and comparison.\n",
    "- DVCLive tracks different metrics and artifacts in specific locations within a directory structure:\n",
    "  - Metrics:\n",
    "    - General metrics: `/plots/metrics`\n",
    "    - System metrics: `dvclive/plots/metrics/system`\n",
    "  - Parameters: `dvclive/params.yaml`\n",
    "  - Images: `dvclive/plots/images`\n",
    "  - Custom plots: `dvclive/plots/custom`\n",
    "  - Sklearn plots: `dvclive/plots/sklearn`\n",
    "  - Artifacts:\n",
    "    - Default: `.dvc` files in the root directory (e.g., `model.pt.dvc`)\n",
    "    - Optional: `dvclive/artifacts/{path}` or `dvclive/artifacts/{path}.dvc`\n",
    "  - Summary: `dvclive/metrics.json`\n",
    "- [link](https://dvc.org/doc/dvclive?tab=Parameters#outputs)\n"
   ]
  },
  {
   "cell_type": "code",
   "execution_count": null,
   "metadata": {
    "slideshow": {
     "slide_type": "skip"
    }
   },
   "outputs": [],
   "source": [
    "# Use DVCLive CLI to view the results\n",
    "# https://github.com/iterative/dvclive?tab=readme-ov-file#dvc-cli\n",
    "# A better way although is to use DVCStudio or the vscode extension.\n",
    "\n",
    "!dvc exp show"
   ]
  },
  {
   "cell_type": "code",
   "execution_count": null,
   "metadata": {
    "slideshow": {
     "slide_type": "skip"
    }
   },
   "outputs": [],
   "source": [
    "# Use DVCLive CLI to view the results\n",
    "# https://github.com/iterative/dvclive?tab=readme-ov-file#dvc-cli\n",
    "# A better way although is to use DVCStudio or the vscode extension.\n",
    "\n",
    "!dvc plots diff $(dvc exp list --names-only) --open"
   ]
  },
  {
   "cell_type": "markdown",
   "metadata": {
    "slideshow": {
     "slide_type": "slide"
    }
   },
   "source": [
    "# DVC Pipelines\n"
   ]
  },
  {
   "cell_type": "markdown",
   "metadata": {
    "slideshow": {
     "slide_type": "subslide"
    }
   },
   "source": [
    "### Need for DVC Pipelines\n",
    "\n",
    "- **Beyond Jupyter Notebooks**\n",
    "  - Experimenting interactively in Jupyter notebooks is great for exploration.\n",
    "  - But once you are ready to scale up your workflow, you need a more structured way to run reproducible experiments.\n",
    "- **ML Pipelines**\n",
    "  - ML Pipelines are a sequence of stages that process data and train models.\n",
    "  - They Include stages like data preprocessing, model training, evaluation, and deployment.\n",
    "- **DVC Pipelines**\n",
    "  - DVC pipelines help you version control your entire machine learning workflow, including data, code, and model artifacts.\n",
    "  - Pipeline definitions are stored in the `dvc.yaml` file, which describes the stages, their dependencies, and outputs.\n",
    "  - DVC pipelines enable `reproducibility` by tracking the entire experiment lifecycle, from raw data to final results.\n"
   ]
  },
  {
   "cell_type": "markdown",
   "metadata": {
    "slideshow": {
     "slide_type": "subslide"
    }
   },
   "source": [
    "![mermaid](./../assets/dvc-145.png)\n"
   ]
  },
  {
   "cell_type": "markdown",
   "metadata": {
    "slideshow": {
     "slide_type": "subslide"
    }
   },
   "source": [
    "### Demo DVC Pipeline\n"
   ]
  },
  {
   "cell_type": "markdown",
   "metadata": {
    "slideshow": {
     "slide_type": "subslide"
    }
   },
   "source": [
    "- To demonstrate how to work with DVC pipelines, we are going to create a simple pipeline with the following stages:\n",
    "  - `Prepare` - Process raw data\n",
    "  - `Featurize` - Transform prepared data into feature vectors\n",
    "  - `Train` - Train a machine learning model\n",
    "  - `Evaluate` - Assess model performance\n"
   ]
  },
  {
   "cell_type": "markdown",
   "metadata": {
    "slideshow": {
     "slide_type": "subslide"
    }
   },
   "source": [
    "![mermaid](./../assets/dvc-165.png)\n"
   ]
  },
  {
   "cell_type": "code",
   "execution_count": 7,
   "metadata": {
    "slideshow": {
     "slide_type": "skip"
    }
   },
   "outputs": [
    {
     "data": {
      "text/html": [
       "<img src=\"https://mermaid.ink/img/CmdyYXBoIExSCiAgICBBW1ByZXBhcmVdIC0tPiBCW0ZlYXR1cml6ZV0KICAgIEIgLS0-IENbVHJhaW5dCiAgICBDIC0tPiBEW0V2YWx1YXRlXQo=\"/>"
      ],
      "text/plain": [
       "<IPython.core.display.Image object>"
      ]
     },
     "metadata": {},
     "output_type": "display_data"
    }
   ],
   "source": [
    "mm(\"\"\"\n",
    "graph LR\n",
    "    A[Prepare] --> B[Featurize]\n",
    "    B --> C[Train]\n",
    "    C --> D[Evaluate]\n",
    "\"\"\")"
   ]
  },
  {
   "cell_type": "code",
   "execution_count": null,
   "metadata": {
    "slideshow": {
     "slide_type": "skip"
    }
   },
   "outputs": [],
   "source": [
    "# Download some ready-made code\n",
    "\n",
    "!wget https://code.dvc.org/get-started/code.zip && unzip code.zip && rm code.zip && rm -rf .github/ && rm -rf src/requirements.txt"
   ]
  },
  {
   "cell_type": "code",
   "execution_count": null,
   "metadata": {
    "slideshow": {
     "slide_type": "skip"
    }
   },
   "outputs": [],
   "source": [
    "# Download some ready-made data\n",
    "!dvc get https://github.com/iterative/dataset-registry get-started/data.xml -o data/data.xml\n",
    "\n",
    "# Add the data to DVC\n",
    "!dvc add data/data.xml"
   ]
  },
  {
   "cell_type": "markdown",
   "metadata": {},
   "source": [
    "### Create pipeline definition\n",
    "\n",
    "- DVC pipeline can be defined in 2 ways\n",
    "  - manually adding details of each step to `dvc.yaml` file or\n",
    "  - using `dvc stage add` command to define each step of the pipeline.\n",
    "- For the purpose of this demo, I have already created a `dvc.yaml` file with the pipeline definition.\n"
   ]
  },
  {
   "cell_type": "code",
   "execution_count": null,
   "metadata": {},
   "outputs": [],
   "source": [
    "# Prerequisite\n",
    "\n",
    "# Define the DVC Pipeline\n",
    "\n",
    "# Stage 1: Prepare\n",
    "!dvc stage add -n prepare \\\n",
    "              -p prepare.seed,prepare.split \\\n",
    "              -d src/prepare.py -d data/data.xml \\\n",
    "              -o data/prepared \\\n",
    "              python src/prepare.py data/data.xml\n",
    "\n",
    "# Stage 2: Featurize\n",
    "!dvc stage add -n featurize \\\n",
    "              -p featurize.max_features,featurize.ngrams \\\n",
    "              -d src/featurization.py -d data/prepared \\\n",
    "              -o data/features \\\n",
    "              python src/featurization.py data/prepared data/features\n",
    "\n",
    "# Stage 3: Train\n",
    "!dvc stage add -n train \\\n",
    "              -p train.seed,train.n_est,train.min_split \\\n",
    "              -d src/train.py -d data/features \\\n",
    "              -o model.pkl \\\n",
    "              python src/train.py data/features model.pkl\n",
    "\n",
    "# Stage 4: Evaluate\n",
    "!dvc stage add -n evaluate \\\n",
    "              -d src/evaluate.py -d model.pkl -d data/features \\\n",
    "              -o eval \\\n",
    "              python src/evaluate.py model.pkl data/features"
   ]
  },
  {
   "cell_type": "markdown",
   "metadata": {},
   "source": [
    "### Execute pipeline\n",
    "\n",
    "- **Run pipeline**\n",
    "  - To execute the pipeline, we use the `dvc repro` command.\n",
    "- **dvc.lock**\n",
    "  - After reproducing the pipeline, a `dvc.lock` file is created\n",
    "  - This file captures the\n",
    "    - state of the pipeline,\n",
    "    - the dependencies and values of the parameters that were used, and\n",
    "    - the outputs that were generated.\n",
    "- **yaml & lock**\n",
    "  - `dvc repro` relies on the dependency graph defined in `dvc.yaml`, and\n",
    "  - uses `dvc.lock` to determine what needs to be run\n"
   ]
  },
  {
   "cell_type": "code",
   "execution_count": null,
   "metadata": {
    "slideshow": {
     "slide_type": "subslide"
    }
   },
   "outputs": [],
   "source": [
    "# Execute dvc pipeline\n",
    "\n",
    "!dvc repro"
   ]
  },
  {
   "cell_type": "markdown",
   "metadata": {
    "slideshow": {
     "slide_type": "subslide"
    }
   },
   "source": [
    "### Check metrics\n",
    "\n",
    "- Checkout DVCLive vscode extension after the run is finished.\n"
   ]
  },
  {
   "cell_type": "code",
   "execution_count": null,
   "metadata": {
    "slideshow": {
     "slide_type": "skip"
    }
   },
   "outputs": [],
   "source": [
    "# View pipeline execution metrics\n",
    "!dvc metrics show\n"
   ]
  },
  {
   "cell_type": "code",
   "execution_count": null,
   "metadata": {
    "slideshow": {
     "slide_type": "skip"
    }
   },
   "outputs": [],
   "source": [
    "# Generate pipeline execution plots\n",
    "!dvc plots show"
   ]
  },
  {
   "cell_type": "markdown",
   "metadata": {},
   "source": [
    "### Commit changes\n",
    "\n",
    "- DVCLive allows you to visualize difference between different runs.\n",
    "- So submit the changes to the remote repository.\n"
   ]
  },
  {
   "cell_type": "markdown",
   "metadata": {},
   "source": [
    "### Commit pipeline execution changes\n",
    "\n",
    "- Commit the changes to the DVC & git repository.\n"
   ]
  },
  {
   "cell_type": "markdown",
   "metadata": {
    "slideshow": {
     "slide_type": "subslide"
    }
   },
   "source": [
    "### Change pipeline parameters\n",
    "\n",
    "- Open the params.yaml file and rerun the pipeline to see the changes in the metrics.\n",
    "- For example, change value of estimator from 50 to 10.\n"
   ]
  },
  {
   "cell_type": "code",
   "execution_count": null,
   "metadata": {
    "slideshow": {
     "slide_type": "subslide"
    }
   },
   "outputs": [],
   "source": [
    "# Execute dvc pipeline again\n",
    "\n",
    "!dvc repro\n",
    "\n",
    "# DVC will analyze the changes and only re-execute the necessary stages.\n",
    "# Check out plots and metrics again.\n",
    "\n",
    "# Commit changes to Git and DVC."
   ]
  },
  {
   "cell_type": "code",
   "execution_count": null,
   "metadata": {},
   "outputs": [],
   "source": [
    "# View pipeline execution metrics (again)\n",
    "!dvc metrics show\n"
   ]
  },
  {
   "cell_type": "code",
   "execution_count": null,
   "metadata": {},
   "outputs": [],
   "source": [
    "# Generate pipeline execution plots (again)\n",
    "!dvc plots show"
   ]
  },
  {
   "cell_type": "code",
   "execution_count": null,
   "metadata": {
    "slideshow": {
     "slide_type": "subslide"
    }
   },
   "outputs": [],
   "source": [
    "# Compare parameters\n",
    "!dvc params diff\n"
   ]
  },
  {
   "cell_type": "code",
   "execution_count": null,
   "metadata": {
    "slideshow": {
     "slide_type": "subslide"
    }
   },
   "outputs": [],
   "source": [
    "# Compare metrics\n",
    "!dvc metrics diff\n"
   ]
  },
  {
   "cell_type": "code",
   "execution_count": null,
   "metadata": {
    "slideshow": {
     "slide_type": "subslide"
    }
   },
   "outputs": [],
   "source": [
    "# Compare plots\n",
    "!dvc plots diff"
   ]
  },
  {
   "cell_type": "code",
   "execution_count": null,
   "metadata": {},
   "outputs": [],
   "source": [
    "!dvc status"
   ]
  }
 ],
 "metadata": {
  "kernelspec": {
   "display_name": "dvc_venv",
   "language": "python",
   "name": "python3"
  },
  "language_info": {
   "codemirror_mode": {
    "name": "ipython",
    "version": 3
   },
   "file_extension": ".py",
   "mimetype": "text/x-python",
   "name": "python",
   "nbconvert_exporter": "python",
   "pygments_lexer": "ipython3",
   "version": "3.12.6"
  }
 },
 "nbformat": 4,
 "nbformat_minor": 2
}
